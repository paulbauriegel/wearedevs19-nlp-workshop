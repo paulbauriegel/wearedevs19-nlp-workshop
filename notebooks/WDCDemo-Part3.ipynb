{
 "cells": [
  {
   "cell_type": "markdown",
   "metadata": {},
   "source": [
    "# Teach a machine to understand human language\n",
    "##### WeAreDeveloper World Congress 2019\n",
    "\n",
    "## Part 3 - Machine Reading Comprehension of text snippets"
   ]
  },
  {
   "cell_type": "markdown",
   "metadata": {},
   "source": [
    "**Goal**: We want to answer to questions by giving the machine a text context that contains the answer\n",
    "\n",
    "**Step 1**: Find a matching text document in our database<br>\n",
    "**Step 2**: Use Reading Comprehension models to derive a good answer"
   ]
  },
  {
   "cell_type": "markdown",
   "metadata": {},
   "source": [
    "### Find a matching text document in our database"
   ]
  },
  {
   "cell_type": "code",
   "execution_count": 1,
   "metadata": {},
   "outputs": [],
   "source": [
    "import json\n",
    "import os"
   ]
  },
  {
   "cell_type": "code",
   "execution_count": 2,
   "metadata": {},
   "outputs": [],
   "source": [
    "with open('/home/paul/Documents/wwc-demo/train-v2.0.json') as squad2_file:\n",
    "    squad2_data = json.load(squad2_file)"
   ]
  },
  {
   "cell_type": "code",
   "execution_count": 27,
   "metadata": {},
   "outputs": [],
   "source": [
    "from whoosh import index\n",
    "from whoosh.fields import ID, STORED, TEXT, Schema\n",
    "from whoosh.analysis import RegexTokenizer, StopFilter, CharsetFilter, LowercaseFilter\n",
    "from whoosh.filedb.filestore import RamStorage"
   ]
  },
  {
   "cell_type": "code",
   "execution_count": 62,
   "metadata": {},
   "outputs": [],
   "source": [
    "from whoosh.support.charset import accent_map\n",
    "\n",
    "stem_ana = RegexTokenizer() | CharsetFilter(accent_map) | LowercaseFilter() | StopFilter() #| \n",
    "schema = Schema(\n",
    "    topic=TEXT(stored=True, analyzer=stem_ana),\n",
    "    content=TEXT(stored=True, analyzer=stem_ana)\n",
    ")\n",
    "if not os.path.exists(\"indexdir\"):\n",
    "    os.mkdir(\"indexdir\")\n",
    "\n",
    "ix = index.create_in(\"indexdir\", schema)"
   ]
  },
  {
   "cell_type": "code",
   "execution_count": 63,
   "metadata": {},
   "outputs": [],
   "source": [
    "#writer.cancel()\n",
    "from whoosh import writing\n",
    "with ix.writer() as mywriter:\n",
    "    mywriter.mergetype = writing.CLEAR"
   ]
  },
  {
   "cell_type": "code",
   "execution_count": 64,
   "metadata": {},
   "outputs": [],
   "source": [
    "ix = index.open_dir(\"indexdir\")\n",
    "writer = ix.writer()"
   ]
  },
  {
   "cell_type": "code",
   "execution_count": null,
   "metadata": {},
   "outputs": [],
   "source": [
    "for topic in squad2_data['data']:\n",
    "    topic_name = topic['title']\n",
    "    #print(topic_name)\n",
    "    for paragraph in topic['paragraphs']:\n",
    "        doc = paragraph['context']\n",
    "        writer.add_document(topic=topic_name, content=doc)\n",
    "writer.commit()"
   ]
  },
  {
   "cell_type": "code",
   "execution_count": 69,
   "metadata": {},
   "outputs": [],
   "source": [
    "from whoosh.qparser import MultifieldParser, OrGroup\n",
    "from whoosh.analysis import StopFilter, LowercaseFilter\n",
    "\n",
    "with open('/home/paul/Documents/wwc-demo/nltk_stopwords.txt') as sw_file:\n",
    "    sw = [s.strip() for s in sw_file.readlines()]\n",
    "    \n",
    "def search_whoosh(question, n_results):\n",
    "    ana = RegexTokenizer() | LowercaseFilter() | StopFilter(stoplist=sw) | CharsetFilter(accent_map)\n",
    "    question = ' '.join([t.text for t in ana(question, mode=\"index\")])\n",
    "    with ix.searcher() as searcher:\n",
    "        parsed_query = MultifieldParser(\n",
    "            [\"topic\", \"content\"], schema=ix.schema, group=OrGroup\n",
    "        ).parse(question)\n",
    "        hits = searcher.search(parsed_query, limit=n_results)\n",
    "        results = [dict(hit.items()) for hit in hits]\n",
    "    return results"
   ]
  },
  {
   "cell_type": "code",
   "execution_count": 70,
   "metadata": {},
   "outputs": [
    {
     "data": {
      "text/plain": [
       "[{'content': 'On January 7, 2012, Beyoncé gave birth to a daughter, Blue Ivy Carter, at Lenox Hill Hospital in New York under heavy security. Two days later, Jay Z released \"Glory\", a song dedicated to their child, on his website Lifeandtimes.com. The song detailed the couple\\'s pregnancy struggles, including a miscarriage Beyoncé suffered before becoming pregnant with Blue Ivy. Blue Ivy\\'s cries are included at the end of the song, and she was officially credited as \"B.I.C.\" on it. At two days old, she became the youngest person ever to appear on a Billboard chart when \"Glory\" debuted on the Hot R&B/Hip-Hop Songs chart.',\n",
       "  'topic': 'Beyoncé'}]"
      ]
     },
     "execution_count": 70,
     "metadata": {},
     "output_type": "execute_result"
    }
   ],
   "source": [
    "search_whoosh('How old is beyonce', 1)"
   ]
  },
  {
   "cell_type": "markdown",
   "metadata": {},
   "source": [
    "### Use Reading Comprehension models to derive a good answer"
   ]
  },
  {
   "cell_type": "code",
   "execution_count": 72,
   "metadata": {},
   "outputs": [
    {
     "data": {
      "text/plain": [
       "<spacy.lang.en.English at 0x7f3f410baf60>"
      ]
     },
     "execution_count": 72,
     "metadata": {},
     "output_type": "execute_result"
    }
   ],
   "source": [
    "import spacy\n",
    "spacy.load('en_core_web_sm')"
   ]
  },
  {
   "cell_type": "code",
   "execution_count": 73,
   "metadata": {},
   "outputs": [
    {
     "name": "stderr",
     "output_type": "stream",
     "text": [
      "/home/paul/anaconda3/lib/python3.6/site-packages/torch/nn/modules/rnn.py:54: UserWarning: dropout option adds dropout after all but last recurrent layer, so non-zero dropout expects num_layers greater than 1, but got dropout=0.2 and num_layers=1\n",
      "  \"num_layers={}\".format(dropout, num_layers))\n",
      "/home/paul/anaconda3/lib/python3.6/site-packages/allennlp/data/token_indexers/token_characters_indexer.py:55: UserWarning: You are using the default value (0) of `min_padding_length`, which can cause some subtle bugs (more info see https://github.com/allenai/allennlp/issues/1954). Strongly recommend to set a value, usually the maximum size of the convolutional layer size when using CnnEncoder.\n",
      "  UserWarning)\n"
     ]
    },
    {
     "data": {
      "text/plain": [
       "'Keanu Reeves, Laurence Fishburne, Carrie-Anne Moss, Hugo Weaving, and Joe Pantoliano'"
      ]
     },
     "execution_count": 73,
     "metadata": {},
     "output_type": "execute_result"
    }
   ],
   "source": [
    "passage = \"The Matrix is a 1999 science fiction action film written and directed by The Wachowskis, starring Keanu Reeves, Laurence Fishburne, Carrie-Anne Moss, Hugo Weaving, and Joe Pantoliano.\"\n",
    "question=\"Who stars in The Matrix?\"\n",
    "from allennlp.predictors.predictor import Predictor\n",
    "predictor = Predictor.from_path(\"https://s3-us-west-2.amazonaws.com/allennlp/models/bidaf-model-2017.09.15-charpad.tar.gz\")\n",
    "result = predictor.predict(\n",
    "  passage=passage,\n",
    "  question=question\n",
    ")\n",
    "result['best_span_str']"
   ]
  },
  {
   "cell_type": "markdown",
   "metadata": {},
   "source": [
    "Let's test that model on some sample data"
   ]
  },
  {
   "cell_type": "code",
   "execution_count": 75,
   "metadata": {},
   "outputs": [],
   "source": [
    "text = \"\"\"\n",
    "To connect your phone to a mobile network, you'll need an active SIM. Without one, you’ll see a “No SIM card” message.\n",
    "Note: Some of these steps work only on Android 9 and up. Learn how to check your Android version.\n",
    "\n",
    "Tap here to see an interactive tutorial\n",
    "Get a SIM card\n",
    "\n",
    "All Pixel phones can use nano SIM cards. Some Pixel phones can also use eSIM.\n",
    "\n",
    "If you buy a Pixel 3 or Pixel 2 phone on the Google Store:\n",
    "\n",
    "    In the U.S., you can pick no SIM card or a pre-inserted Verizon SIM card. If Verizon is your mobile carrier, activate your SIM card on their site (www.vzw.com/google-activate).\n",
    "    In other countries, your phone comes with no SIM card.\n",
    "\n",
    "If you need a SIM card\n",
    "\n",
    "To get a nano SIM card, contact your mobile service provider. If you're asked for your phone's IMEI number, learn where to see your IMEI number.\n",
    "If you have a SIM card\n",
    "\n",
    "You can move your current phone's nano SIM card to your Pixel phone instead of getting a new one.\n",
    "If you want to use eSIM\n",
    "\n",
    "Some Pixel phones can use eSIM, depending on the device and mobile carrier. For details, check with your carrier. \n",
    "\n",
    "Carriers that work with eSIM on Pixel phones include: \n",
    "\n",
    "    Pixel 3a: Sprint, Telekom.de, or Google Fi\n",
    "    Pixel 3a and 3 can't use eSIM if the phone was purchased in Japan, or if bought with Verizon or Charter service.\n",
    "    Pixel 3: Sprint, Telekom.de, or Google Fi\n",
    "    Pixel 2: Google Fi\n",
    "\n",
    "Insert a SIM card\n",
    "\n",
    "With your phone off:\n",
    "\n",
    "    Into the small hole on the phone's left edge, insert the SIM ejection tool. Firmly but gently, push until the tray pops out.\n",
    "    Note: On Pixel 3 (2018), the SIM card slot is on the phone's bottom edge.\n",
    "    Remove the tray, and put the nano SIM card in the tray. Gently, push the tray back into its slot.\n",
    "\n",
    "You could need to restart your phone to start getting mobile service. To restart a phone that's on, press the power button for about 3 seconds. Then tap Restart Restart.\n",
    "\n",
    "Insert SIM card\n",
    "\n",
    "Find your phone's IMEI number\n",
    "\n",
    "You can find your phone's IMEI number:\n",
    "\n",
    "    On your phone's box.\n",
    "    On your phone's SIM card tray.\n",
    "    In your phone's Settings app Settings app: Tap System and then About phone, then look for \"IMEI.\"\n",
    "\n",
    "Tip: Take a photo of your IMEI number or write it on your paper Quick Start Guide.\n",
    "\"\"\""
   ]
  },
  {
   "cell_type": "code",
   "execution_count": 76,
   "metadata": {},
   "outputs": [
    {
     "data": {
      "text/plain": [
       "\"Into the small hole on the phone's left edge\""
      ]
     },
     "execution_count": 76,
     "metadata": {},
     "output_type": "execute_result"
    }
   ],
   "source": [
    "question = \"How to change the SIM card in the Google Pixel\"\n",
    "result = predictor.predict(\n",
    "  passage=text,\n",
    "  question=question\n",
    ")\n",
    "result['best_span_str']"
   ]
  },
  {
   "cell_type": "code",
   "execution_count": null,
   "metadata": {},
   "outputs": [],
   "source": []
  }
 ],
 "metadata": {
  "kernelspec": {
   "display_name": "Python 3",
   "language": "python",
   "name": "python3"
  },
  "language_info": {
   "codemirror_mode": {
    "name": "ipython",
    "version": 3
   },
   "file_extension": ".py",
   "mimetype": "text/x-python",
   "name": "python",
   "nbconvert_exporter": "python",
   "pygments_lexer": "ipython3",
   "version": "3.6.8"
  }
 },
 "nbformat": 4,
 "nbformat_minor": 2
}
